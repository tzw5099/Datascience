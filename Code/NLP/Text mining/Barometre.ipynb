{
 "cells": [
  {
   "cell_type": "code",
   "execution_count": 1,
   "metadata": {
    "collapsed": false
   },
   "outputs": [],
   "source": [
    "import pandas as pd\n",
    "import numpy as np\n",
    "import re\n",
    "from datetime import datetime\n",
    "\n",
    "from sklearn.feature_extraction.text import CountVectorizer\n",
    "\n",
    "import gc\n",
    "\n",
    "import sklearn\n",
    "from sklearn.pipeline import Pipeline\n",
    "from sklearn.naive_bayes import MultinomialNB\n",
    "\n",
    "import nltk\n",
    "\n",
    "import matplotlib.pyplot as plt\n",
    "import matplotlib.dates as mdates\n",
    "import matplotlib.ticker as mtick\n",
    "\n",
    "from scipy.interpolate import interp1d\n",
    "\n",
    "%matplotlib inline"
   ]
  },
  {
   "cell_type": "code",
   "execution_count": 2,
   "metadata": {
    "collapsed": false
   },
   "outputs": [],
   "source": [
    "def dateYear(date):\n",
    "    return \n",
    "\n",
    "def dateConverter(date):\n",
    "    \n",
    "    monthUKFR = dict()\n",
    "    monthUKFR['janvier'] = 1\n",
    "    monthUKFR['février'] = 2\n",
    "    monthUKFR['mars'] = 3\n",
    "    monthUKFR['avril'] = 4\n",
    "    monthUKFR['mai'] = 5\n",
    "    monthUKFR['juin'] = 6\n",
    "    monthUKFR['juillet'] = 7\n",
    "    monthUKFR['août'] = 8\n",
    "    monthUKFR['septembre'] = 9\n",
    "    monthUKFR['octobre'] = 10\n",
    "    monthUKFR['novembre'] = 11\n",
    "    monthUKFR['décembre'] = 12\n",
    "    \n",
    "    day = int(re.findall(r'\\S+', date)[0])\n",
    "    month = monthUKFR[re.findall(r'\\S+', date)[1]]\n",
    "    year = int(re.findall(r'\\S+', date)[2])\n",
    "    \n",
    "    return datetime(year,month,day)\n",
    "\n",
    "\n",
    "\n",
    "reviews=pd.read_csv('reviews.csv', encoding = 'utf-8')\n",
    "reviews['reviewYear'] = reviews.reviewDate.apply(lambda x: dateConverter(x))\n",
    "#reviews_fr = reviews[reviews['language'] == 'fr']\n",
    "reviews_en = reviews[reviews['language'] == 'en']\n",
    "\n",
    "\n",
    "\n"
   ]
  },
  {
   "cell_type": "code",
   "execution_count": null,
   "metadata": {
    "collapsed": false
   },
   "outputs": [],
   "source": []
  },
  {
   "cell_type": "code",
   "execution_count": 3,
   "metadata": {
    "collapsed": false
   },
   "outputs": [],
   "source": [
    "class barometre:\n",
    "    \n",
    "    def __init__(self, reviews):\n",
    "        self.reviews = reviews\n",
    "        self.categories = dict()\n",
    "    \n",
    "    def addCategory(self, name, words):\n",
    "        #ajoute une nouvelle catégorie au baromètre. Les catégories sont définies par un groupe de mots.\n",
    "        self.categories[name] = words\n",
    "    \n",
    "    def vectorizeReviews(self):\n",
    "        self.vect = CountVectorizer(lowercase=True, preprocessor=None, token_pattern=r'\\b\\w+\\b', ngram_range=(1, 2), max_df=.8, min_df=1)\n",
    "        self.vectM = self.vect.fit_transform(self.reviews.reviewDescription)\n",
    "        \n",
    "    def tagCat(self,catName):\n",
    "        for w in self.categories[catName]:\n",
    "            vocab = self.vect.vocabulary_.get(w) #la colonne du mot de la catégorie\n",
    "            slice = self.vectM[:,vocab].toarray() #l'ensemble des reviews contenant ce mot\n",
    "            if catName in baro.reviews.columns:\n",
    "                baro.reviews[catName] =(baro.reviews[catName].values | (slice > 0)) #création d'une colonne du nom de la catégorie\n",
    "            else:\n",
    "                baro.reviews[catName] = (slice > 0) #création d'une colonne du nom de la catégorie\n",
    "            \n",
    "    def plotCat(self):\n",
    "        d = self.reviews.loc[:,self.categories.keys()] #reviews filtrées sur les catégories\n",
    "        d = d[d.sum(axis=1) > 0] #reviews qui ont été taggés au moins une fois\n",
    "        df = pd.concat([d, self.reviews.reviewYear.apply(lambda x: (x.year, x.month))], axis=1, join_axes=[d.index] ) #ajout de l'année\n",
    "        valeurs = (df.groupby('reviewYear').sum()/\n",
    "                   self.reviews.groupby(self.reviews.reviewYear.apply(lambda x: (x.year, x.month))).count()).loc[:,self.categories.keys()] #décompte du nombre par an\n",
    "        \n",
    "        valeurs = valeurs.dropna()\n",
    "        \n",
    "        x = valeurs.index.values\n",
    "        \n",
    "        print(valeurs)\n",
    "      \n",
    "        \n",
    "        y1 = valeurs.iloc[:,0]\n",
    "        y2 = valeurs.iloc[:,1]\n",
    "        y3 = valeurs.iloc[:,2]\n",
    "       \n",
    "        \n",
    "        xd = [datetime(t[0],t[1],1) for t in x]\n",
    "    \n",
    "        plt.style.use('ggplot')\n",
    "        \n",
    "        fig, ax = plt.subplots(figsize=(20, 10))\n",
    "        ax.stackplot(xd, y1*100, y2*100, y3*100)\n",
    "\n",
    "        ax.xaxis.set_major_formatter(mdates.DateFormatter('%b %Y'))\n",
    "        ax.xaxis.set_major_locator(mdates.MonthLocator(interval=3))\n",
    "\n",
    "        fmt = '%.1f%%' # Format you want the ticks, e.g. '40%'\n",
    "        yticks = mtick.FormatStrFormatter(fmt)\n",
    "        ax.yaxis.set_major_formatter(yticks)\n",
    "\n",
    "        handles, labels = ax.get_legend_handles_labels()\n",
    "        ax.legend(handles, labels)\n",
    "        \n",
    "        \n",
    "    def printWord(self, word):\n",
    "        vocab = self.vect.vocabulary_.get(word) #la colonne du mot de la catégorie\n",
    "        slice = self.vectM[:,vocab].toarray() #l'ensemble des reviews contenant ce mot\n",
    "        print(self.reviews[slice > 1]['reviewDescription'])\n",
    "\n",
    "    def info(self):\n",
    "        return self.reviews.groupby(list(self.categories.keys())).reviewDescription.count()"
   ]
  },
  {
   "cell_type": "code",
   "execution_count": null,
   "metadata": {
    "collapsed": false
   },
   "outputs": [],
   "source": []
  },
  {
   "cell_type": "code",
   "execution_count": null,
   "metadata": {
    "collapsed": false,
    "scrolled": false
   },
   "outputs": [],
   "source": []
  },
  {
   "cell_type": "code",
   "execution_count": 4,
   "metadata": {
    "collapsed": false
   },
   "outputs": [
    {
     "name": "stderr",
     "output_type": "stream",
     "text": [
      "/home/ubuntu/anaconda3/lib/python3.5/site-packages/ipykernel/__main__.py:22: SettingWithCopyWarning: \n",
      "A value is trying to be set on a copy of a slice from a DataFrame.\n",
      "Try using .loc[row_indexer,col_indexer] = value instead\n",
      "\n",
      "See the caveats in the documentation: http://pandas.pydata.org/pandas-docs/stable/indexing.html#indexing-view-versus-copy\n",
      "/home/ubuntu/anaconda3/lib/python3.5/site-packages/ipykernel/__main__.py:20: SettingWithCopyWarning: \n",
      "A value is trying to be set on a copy of a slice from a DataFrame.\n",
      "Try using .loc[row_indexer,col_indexer] = value instead\n",
      "\n",
      "See the caveats in the documentation: http://pandas.pydata.org/pandas-docs/stable/indexing.html#indexing-view-versus-copy\n"
     ]
    },
    {
     "name": "stdout",
     "output_type": "stream",
     "text": [
      "             culture  workplace       pay\n",
      "reviewYear                               \n",
      "(2011, 11)  0.000000   0.500000  0.000000\n",
      "(2011, 12)  0.000000   0.111111  0.000000\n",
      "(2012, 1)   0.000000   0.142857  0.000000\n",
      "(2012, 2)   0.000000   0.173913  0.000000\n",
      "(2012, 3)   0.000000   0.068966  0.022989\n",
      "(2012, 4)   0.000000   0.120000  0.000000\n",
      "(2012, 5)   0.000000   0.142857  0.019048\n",
      "(2012, 6)   0.000000   0.142857  0.023810\n",
      "(2012, 7)   0.000000   0.092437  0.008403\n",
      "(2012, 8)   0.000000   0.108333  0.008333\n",
      "(2012, 9)   0.000000   0.126050  0.008403\n",
      "(2012, 10)  0.000000   0.096296  0.007407\n",
      "(2012, 11)  0.000000   0.126437  0.022989\n",
      "(2012, 12)  0.012987   0.155844  0.038961\n",
      "(2013, 1)   0.000000   0.154362  0.006711\n",
      "(2013, 2)   0.000000   0.130081  0.000000\n",
      "(2013, 3)   0.000000   0.088435  0.006803\n",
      "(2013, 4)   0.000000   0.163399  0.026144\n",
      "(2013, 5)   0.000000   0.163265  0.013605\n",
      "(2013, 6)   0.006173   0.111111  0.000000\n",
      "(2013, 7)   0.000000   0.086735  0.010204\n",
      "(2013, 8)   0.000000   0.105882  0.011765\n",
      "(2013, 9)   0.000000   0.099010  0.019802\n",
      "(2013, 10)  0.000000   0.138889  0.011111\n",
      "(2013, 11)  0.000000   0.091463  0.012195\n",
      "(2013, 12)  0.000000   0.092593  0.024691\n",
      "(2014, 1)   0.000000   0.120172  0.025751\n",
      "(2014, 2)   0.000000   0.138889  0.009259\n",
      "(2014, 3)   0.000000   0.100877  0.021930\n",
      "(2014, 4)   0.000000   0.100478  0.014354\n",
      "(2014, 5)   0.000000   0.077982  0.027523\n",
      "(2014, 6)   0.000000   0.105263  0.017544\n",
      "(2014, 7)   0.000000   0.104265  0.014218\n",
      "(2014, 8)   0.000000   0.117409  0.016194\n",
      "(2014, 9)   0.000000   0.073654  0.019830\n",
      "(2014, 10)  0.000000   0.122016  0.007958\n",
      "(2014, 11)  0.000000   0.120879  0.016484\n",
      "(2014, 12)  0.000000   0.144654  0.025157\n",
      "(2015, 1)   0.000000   0.134328  0.032338\n",
      "(2015, 2)   0.000000   0.147700  0.019370\n",
      "(2015, 3)   0.002584   0.160207  0.028424\n",
      "(2015, 4)   0.000000   0.142433  0.023739\n",
      "(2015, 5)   0.003115   0.109034  0.028037\n",
      "(2015, 6)   0.000000   0.145946  0.032432\n",
      "(2015, 7)   0.002494   0.152120  0.019950\n",
      "(2015, 8)   0.000000   0.140476  0.038095\n",
      "(2015, 9)   0.002445   0.158924  0.026895\n",
      "(2015, 10)  0.004425   0.163717  0.019912\n",
      "(2015, 11)  0.000000   0.132992  0.033248\n",
      "(2015, 12)  0.000000   0.177700  0.048780\n",
      "(2016, 1)   0.000000   0.110169  0.031073\n",
      "(2016, 2)   0.000000   0.197143  0.028571\n",
      "(2016, 3)   0.000000   0.134048  0.021448\n",
      "(2016, 4)   0.002907   0.165698  0.055233\n",
      "(2016, 5)   0.000000   0.147619  0.040476\n",
      "(2016, 6)   0.002494   0.167082  0.037406\n",
      "(2016, 7)   0.000000   0.128205  0.051282\n"
     ]
    },
    {
     "data": {
      "text/plain": [
       "culture  workplace  pay  \n",
       "False    False      False    11088\n",
       "                    True       272\n",
       "         True       False     1697\n",
       "                    True        41\n",
       "True     False      False        8\n",
       "         True       False        2\n",
       "Name: reviewDescription, dtype: int64"
      ]
     },
     "execution_count": 4,
     "metadata": {},
     "output_type": "execute_result"
    },
    {
     "data": {
      "image/png": "[encoded data removed]",
      "text/plain": [
       "<matplotlib.figure.Figure at 0x7f139403e4e0>"
      ]
     },
     "metadata": {},
     "output_type": "display_data"
    }
   ],
   "source": [
    "baro = barometre(reviews_en)\n",
    "baro.addCategory('culture',['culture', 'mindset'])\n",
    "baro.vectorizeReviews()\n",
    "baro.addCategory('workplace',['work environment', 'workplace','environment'])\n",
    "baro.addCategory('pay',['pay', 'remuneration','wage','compensation','salary'])\n",
    "\n",
    "baro.tagCat('workplace')\n",
    "baro.tagCat('culture')\n",
    "baro.tagCat('pay')\n",
    "baro.plotCat()\n",
    "baro.info()\n",
    "#baro.printWord('work')"
   ]
  },
  {
   "cell_type": "code",
   "execution_count": null,
   "metadata": {
    "collapsed": false,
    "scrolled": false
   },
   "outputs": [],
   "source": [
    "baro.reviews[baro.reviews[list(baro.categories.keys())].apply(lambda x: x.max(), axis=1) == 0]['reviewDescription']"
   ]
  },
  {
   "cell_type": "code",
   "execution_count": null,
   "metadata": {
    "collapsed": false
   },
   "outputs": [],
   "source": [
    " for w in baro.categories['culture']:\n",
    "    print(w)\n",
    "    vocab = baro.vect.vocabulary_.get(w) #la colonne du mot de la catégorie\n",
    "    slice = baro.vectM[:,vocab].toarray() #l'ensemble des reviews contenant ce mot\n",
    "    print((slice > 0).sum())\n",
    "    '''\n",
    "    if 'culture' in baro.reviews.columns:\n",
    "        print('in columns')\n",
    "        baro.reviews['culture'] = np.logical_or(baro.reviews['culture'].values, (slice > 0)) #création d'une colonne du nom de la catégorie\n",
    "    else:\n",
    "        print('not in columns')\n",
    "        baro.reviews['culture'] = (slice > 0) #création d'une colonne du nom de la catégorie\n",
    "    '''"
   ]
  },
  {
   "cell_type": "code",
   "execution_count": null,
   "metadata": {
    "collapsed": false
   },
   "outputs": [],
   "source": [
    "sep = int(baro.reviews.shape[0]*0.5)\n",
    "\n",
    "xtrain = baro.reviews.reviewDescription[:sep]\n",
    "xtest = baro.reviews.reviewDescription[sep:]\n",
    "\n",
    "ytrain = baro.reviews[list(baro.categories.keys())[1]][:sep] #reviews filtrées sur les catégories\n",
    "ytest  = baro.reviews[list(baro.categories.keys())[1]][sep:]\n",
    "\n",
    "from sklearn.pipeline import Pipeline\n",
    "text_clf = Pipeline([('vect', CountVectorizer(lowercase=True,min_df=2, max_df=.8)),\n",
    "                     ('TFIDF', TfidfTransformer()),\n",
    "                     ('clf', MultinomialNB(alpha=0))])\n",
    "text_clf = text_clf.fit(xtrain, ytrain)\n",
    "\n",
    "predicted = text_clf.predict(xtest)\n",
    "print(metrics.classification_report(ytest, predicted))"
   ]
  },
  {
   "cell_type": "code",
   "execution_count": null,
   "metadata": {
    "collapsed": true
   },
   "outputs": [],
   "source": [
    "\n",
    "from sklearn.naive_bayes import MultinomialNB\n",
    "from sklearn import metrics\n",
    "from sklearn.feature_extraction.text import TfidfTransformer\n"
   ]
  },
  {
   "cell_type": "code",
   "execution_count": null,
   "metadata": {
    "collapsed": false
   },
   "outputs": [],
   "source": []
  },
  {
   "cell_type": "code",
   "execution_count": null,
   "metadata": {
    "collapsed": false
   },
   "outputs": [],
   "source": [
    "Xvect[:,vect.vocabulary_.get('mindset')]"
   ]
  },
  {
   "cell_type": "code",
   "execution_count": null,
   "metadata": {
    "collapsed": false
   },
   "outputs": [],
   "source": []
  },
  {
   "cell_type": "code",
   "execution_count": null,
   "metadata": {
    "collapsed": false
   },
   "outputs": [],
   "source": [
    "pd.set_option('display.width', 1000)\n",
    "pd.options.display.max_seq_items = 2000\n",
    "pd.set_option('max_colwidth',500)"
   ]
  },
  {
   "cell_type": "code",
   "execution_count": 7,
   "metadata": {
    "collapsed": false
   },
   "outputs": [
    {
     "ename": "IndexError",
     "evalue": "single positional indexer is out-of-bounds",
     "output_type": "error",
     "traceback": [
      "\u001b[1;31m---------------------------------------------------------------------------\u001b[0m",
      "\u001b[1;31mIndexError\u001b[0m                                Traceback (most recent call last)",
      "\u001b[1;32m<ipython-input-7-2d623c71b90f>\u001b[0m in \u001b[0;36m<module>\u001b[1;34m()\u001b[0m\n\u001b[1;32m----> 1\u001b[1;33m \u001b[0mbaro\u001b[0m\u001b[1;33m.\u001b[0m\u001b[0mplotCat\u001b[0m\u001b[1;33m(\u001b[0m\u001b[1;33m)\u001b[0m\u001b[1;33m\u001b[0m\u001b[0m\n\u001b[0m",
      "\u001b[1;32m<ipython-input-4-9a4ec2e5dd2a>\u001b[0m in \u001b[0;36mplotCat\u001b[1;34m(self)\u001b[0m\n\u001b[0;32m     34\u001b[0m \u001b[1;33m\u001b[0m\u001b[0m\n\u001b[0;32m     35\u001b[0m         \u001b[0my1\u001b[0m \u001b[1;33m=\u001b[0m \u001b[0mvaleurs\u001b[0m\u001b[1;33m.\u001b[0m\u001b[0miloc\u001b[0m\u001b[1;33m[\u001b[0m\u001b[1;33m:\u001b[0m\u001b[1;33m,\u001b[0m\u001b[1;36m0\u001b[0m\u001b[1;33m]\u001b[0m\u001b[1;33m.\u001b[0m\u001b[0mastype\u001b[0m\u001b[1;33m(\u001b[0m\u001b[1;34m'float'\u001b[0m\u001b[1;33m)\u001b[0m\u001b[1;33m\u001b[0m\u001b[0m\n\u001b[1;32m---> 36\u001b[1;33m         \u001b[0my2\u001b[0m \u001b[1;33m=\u001b[0m \u001b[0mvaleurs\u001b[0m\u001b[1;33m.\u001b[0m\u001b[0miloc\u001b[0m\u001b[1;33m[\u001b[0m\u001b[1;33m:\u001b[0m\u001b[1;33m,\u001b[0m\u001b[1;36m1\u001b[0m\u001b[1;33m]\u001b[0m\u001b[1;33m\u001b[0m\u001b[0m\n\u001b[0m\u001b[0;32m     37\u001b[0m \u001b[1;33m\u001b[0m\u001b[0m\n\u001b[0;32m     38\u001b[0m         \u001b[0mxd\u001b[0m \u001b[1;33m=\u001b[0m \u001b[1;33m[\u001b[0m\u001b[0mdatetime\u001b[0m\u001b[1;33m(\u001b[0m\u001b[0mt\u001b[0m\u001b[1;33m[\u001b[0m\u001b[1;36m0\u001b[0m\u001b[1;33m]\u001b[0m\u001b[1;33m,\u001b[0m\u001b[0mt\u001b[0m\u001b[1;33m[\u001b[0m\u001b[1;36m1\u001b[0m\u001b[1;33m]\u001b[0m\u001b[1;33m,\u001b[0m\u001b[1;36m1\u001b[0m\u001b[1;33m)\u001b[0m \u001b[1;32mfor\u001b[0m \u001b[0mt\u001b[0m \u001b[1;32min\u001b[0m \u001b[0mx\u001b[0m\u001b[1;33m]\u001b[0m\u001b[1;33m\u001b[0m\u001b[0m\n",
      "\u001b[1;32m/home/ubuntu/anaconda3/lib/python3.5/site-packages/pandas/core/indexing.py\u001b[0m in \u001b[0;36m__getitem__\u001b[1;34m(self, key)\u001b[0m\n\u001b[0;32m   1307\u001b[0m \u001b[1;33m\u001b[0m\u001b[0m\n\u001b[0;32m   1308\u001b[0m         \u001b[1;32mif\u001b[0m \u001b[0mtype\u001b[0m\u001b[1;33m(\u001b[0m\u001b[0mkey\u001b[0m\u001b[1;33m)\u001b[0m \u001b[1;32mis\u001b[0m \u001b[0mtuple\u001b[0m\u001b[1;33m:\u001b[0m\u001b[1;33m\u001b[0m\u001b[0m\n\u001b[1;32m-> 1309\u001b[1;33m             \u001b[1;32mreturn\u001b[0m \u001b[0mself\u001b[0m\u001b[1;33m.\u001b[0m\u001b[0m_getitem_tuple\u001b[0m\u001b[1;33m(\u001b[0m\u001b[0mkey\u001b[0m\u001b[1;33m)\u001b[0m\u001b[1;33m\u001b[0m\u001b[0m\n\u001b[0m\u001b[0;32m   1310\u001b[0m         \u001b[1;32melse\u001b[0m\u001b[1;33m:\u001b[0m\u001b[1;33m\u001b[0m\u001b[0m\n\u001b[0;32m   1311\u001b[0m             \u001b[1;32mreturn\u001b[0m \u001b[0mself\u001b[0m\u001b[1;33m.\u001b[0m\u001b[0m_getitem_axis\u001b[0m\u001b[1;33m(\u001b[0m\u001b[0mkey\u001b[0m\u001b[1;33m,\u001b[0m \u001b[0maxis\u001b[0m\u001b[1;33m=\u001b[0m\u001b[1;36m0\u001b[0m\u001b[1;33m)\u001b[0m\u001b[1;33m\u001b[0m\u001b[0m\n",
      "\u001b[1;32m/home/ubuntu/anaconda3/lib/python3.5/site-packages/pandas/core/indexing.py\u001b[0m in \u001b[0;36m_getitem_tuple\u001b[1;34m(self, tup)\u001b[0m\n\u001b[0;32m   1557\u001b[0m     \u001b[1;32mdef\u001b[0m \u001b[0m_getitem_tuple\u001b[0m\u001b[1;33m(\u001b[0m\u001b[0mself\u001b[0m\u001b[1;33m,\u001b[0m \u001b[0mtup\u001b[0m\u001b[1;33m)\u001b[0m\u001b[1;33m:\u001b[0m\u001b[1;33m\u001b[0m\u001b[0m\n\u001b[0;32m   1558\u001b[0m \u001b[1;33m\u001b[0m\u001b[0m\n\u001b[1;32m-> 1559\u001b[1;33m         \u001b[0mself\u001b[0m\u001b[1;33m.\u001b[0m\u001b[0m_has_valid_tuple\u001b[0m\u001b[1;33m(\u001b[0m\u001b[0mtup\u001b[0m\u001b[1;33m)\u001b[0m\u001b[1;33m\u001b[0m\u001b[0m\n\u001b[0m\u001b[0;32m   1560\u001b[0m         \u001b[1;32mtry\u001b[0m\u001b[1;33m:\u001b[0m\u001b[1;33m\u001b[0m\u001b[0m\n\u001b[0;32m   1561\u001b[0m             \u001b[1;32mreturn\u001b[0m \u001b[0mself\u001b[0m\u001b[1;33m.\u001b[0m\u001b[0m_getitem_lowerdim\u001b[0m\u001b[1;33m(\u001b[0m\u001b[0mtup\u001b[0m\u001b[1;33m)\u001b[0m\u001b[1;33m\u001b[0m\u001b[0m\n",
      "\u001b[1;32m/home/ubuntu/anaconda3/lib/python3.5/site-packages/pandas/core/indexing.py\u001b[0m in \u001b[0;36m_has_valid_tuple\u001b[1;34m(self, key)\u001b[0m\n\u001b[0;32m    148\u001b[0m             \u001b[1;32mif\u001b[0m \u001b[0mi\u001b[0m \u001b[1;33m>=\u001b[0m \u001b[0mself\u001b[0m\u001b[1;33m.\u001b[0m\u001b[0mobj\u001b[0m\u001b[1;33m.\u001b[0m\u001b[0mndim\u001b[0m\u001b[1;33m:\u001b[0m\u001b[1;33m\u001b[0m\u001b[0m\n\u001b[0;32m    149\u001b[0m                 \u001b[1;32mraise\u001b[0m \u001b[0mIndexingError\u001b[0m\u001b[1;33m(\u001b[0m\u001b[1;34m'Too many indexers'\u001b[0m\u001b[1;33m)\u001b[0m\u001b[1;33m\u001b[0m\u001b[0m\n\u001b[1;32m--> 150\u001b[1;33m             \u001b[1;32mif\u001b[0m \u001b[1;32mnot\u001b[0m \u001b[0mself\u001b[0m\u001b[1;33m.\u001b[0m\u001b[0m_has_valid_type\u001b[0m\u001b[1;33m(\u001b[0m\u001b[0mk\u001b[0m\u001b[1;33m,\u001b[0m \u001b[0mi\u001b[0m\u001b[1;33m)\u001b[0m\u001b[1;33m:\u001b[0m\u001b[1;33m\u001b[0m\u001b[0m\n\u001b[0m\u001b[0;32m    151\u001b[0m                 raise ValueError(\"Location based indexing can only have [%s] \"\n\u001b[0;32m    152\u001b[0m                                  \"types\" % self._valid_types)\n",
      "\u001b[1;32m/home/ubuntu/anaconda3/lib/python3.5/site-packages/pandas/core/indexing.py\u001b[0m in \u001b[0;36m_has_valid_type\u001b[1;34m(self, key, axis)\u001b[0m\n\u001b[0;32m   1525\u001b[0m             \u001b[1;32mreturn\u001b[0m \u001b[1;32mTrue\u001b[0m\u001b[1;33m\u001b[0m\u001b[0m\n\u001b[0;32m   1526\u001b[0m         \u001b[1;32melif\u001b[0m \u001b[0mis_integer\u001b[0m\u001b[1;33m(\u001b[0m\u001b[0mkey\u001b[0m\u001b[1;33m)\u001b[0m\u001b[1;33m:\u001b[0m\u001b[1;33m\u001b[0m\u001b[0m\n\u001b[1;32m-> 1527\u001b[1;33m             \u001b[1;32mreturn\u001b[0m \u001b[0mself\u001b[0m\u001b[1;33m.\u001b[0m\u001b[0m_is_valid_integer\u001b[0m\u001b[1;33m(\u001b[0m\u001b[0mkey\u001b[0m\u001b[1;33m,\u001b[0m \u001b[0maxis\u001b[0m\u001b[1;33m)\u001b[0m\u001b[1;33m\u001b[0m\u001b[0m\n\u001b[0m\u001b[0;32m   1528\u001b[0m         \u001b[1;32melif\u001b[0m \u001b[0mis_list_like_indexer\u001b[0m\u001b[1;33m(\u001b[0m\u001b[0mkey\u001b[0m\u001b[1;33m)\u001b[0m\u001b[1;33m:\u001b[0m\u001b[1;33m\u001b[0m\u001b[0m\n\u001b[0;32m   1529\u001b[0m             \u001b[1;32mreturn\u001b[0m \u001b[0mself\u001b[0m\u001b[1;33m.\u001b[0m\u001b[0m_is_valid_list_like\u001b[0m\u001b[1;33m(\u001b[0m\u001b[0mkey\u001b[0m\u001b[1;33m,\u001b[0m \u001b[0maxis\u001b[0m\u001b[1;33m)\u001b[0m\u001b[1;33m\u001b[0m\u001b[0m\n",
      "\u001b[1;32m/home/ubuntu/anaconda3/lib/python3.5/site-packages/pandas/core/indexing.py\u001b[0m in \u001b[0;36m_is_valid_integer\u001b[1;34m(self, key, axis)\u001b[0m\n\u001b[0;32m   1539\u001b[0m         \u001b[0ml\u001b[0m \u001b[1;33m=\u001b[0m \u001b[0mlen\u001b[0m\u001b[1;33m(\u001b[0m\u001b[0max\u001b[0m\u001b[1;33m)\u001b[0m\u001b[1;33m\u001b[0m\u001b[0m\n\u001b[0;32m   1540\u001b[0m         \u001b[1;32mif\u001b[0m \u001b[0mkey\u001b[0m \u001b[1;33m>=\u001b[0m \u001b[0ml\u001b[0m \u001b[1;32mor\u001b[0m \u001b[0mkey\u001b[0m \u001b[1;33m<\u001b[0m \u001b[1;33m-\u001b[0m\u001b[0ml\u001b[0m\u001b[1;33m:\u001b[0m\u001b[1;33m\u001b[0m\u001b[0m\n\u001b[1;32m-> 1541\u001b[1;33m             \u001b[1;32mraise\u001b[0m \u001b[0mIndexError\u001b[0m\u001b[1;33m(\u001b[0m\u001b[1;34m\"single positional indexer is out-of-bounds\"\u001b[0m\u001b[1;33m)\u001b[0m\u001b[1;33m\u001b[0m\u001b[0m\n\u001b[0m\u001b[0;32m   1542\u001b[0m         \u001b[1;32mreturn\u001b[0m \u001b[1;32mTrue\u001b[0m\u001b[1;33m\u001b[0m\u001b[0m\n\u001b[0;32m   1543\u001b[0m \u001b[1;33m\u001b[0m\u001b[0m\n",
      "\u001b[1;31mIndexError\u001b[0m: single positional indexer is out-of-bounds"
     ]
    }
   ],
   "source": [
    "baro.plotCat()"
   ]
  },
  {
   "cell_type": "code",
   "execution_count": 66,
   "metadata": {
    "collapsed": false
   },
   "outputs": [
    {
     "ename": "AttributeError",
     "evalue": "'list' object has no attribute 'to_csv'",
     "output_type": "error",
     "traceback": [
      "\u001b[1;31m---------------------------------------------------------------------------\u001b[0m",
      "\u001b[1;31mAttributeError\u001b[0m                            Traceback (most recent call last)",
      "\u001b[1;32m<ipython-input-66-3331662c080d>\u001b[0m in \u001b[0;36m<module>\u001b[1;34m()\u001b[0m\n\u001b[0;32m      3\u001b[0m \u001b[0ms\u001b[0m \u001b[1;33m=\u001b[0m \u001b[1;33m[\u001b[0m\u001b[0mitem\u001b[0m \u001b[1;32mfor\u001b[0m \u001b[0msublist\u001b[0m \u001b[1;32min\u001b[0m \u001b[0mr\u001b[0m \u001b[1;32mfor\u001b[0m \u001b[0mitem\u001b[0m \u001b[1;32min\u001b[0m \u001b[0msublist\u001b[0m \u001b[1;32mif\u001b[0m \u001b[0mlen\u001b[0m\u001b[1;33m(\u001b[0m\u001b[0mitem\u001b[0m\u001b[1;33m)\u001b[0m\u001b[1;33m>\u001b[0m\u001b[1;36m2\u001b[0m\u001b[1;33m]\u001b[0m\u001b[1;33m\u001b[0m\u001b[0m\n\u001b[0;32m      4\u001b[0m \u001b[0ms\u001b[0m\u001b[1;33m[\u001b[0m\u001b[1;36m0\u001b[0m\u001b[1;33m:\u001b[0m\u001b[1;36m1000\u001b[0m\u001b[1;33m]\u001b[0m\u001b[1;33m\u001b[0m\u001b[0m\n\u001b[1;32m----> 5\u001b[1;33m \u001b[0ms\u001b[0m\u001b[1;33m.\u001b[0m\u001b[0mto_csv\u001b[0m\u001b[1;33m(\u001b[0m\u001b[1;34m'phrases.csv'\u001b[0m\u001b[1;33m)\u001b[0m\u001b[1;33m\u001b[0m\u001b[0m\n\u001b[0m",
      "\u001b[1;31mAttributeError\u001b[0m: 'list' object has no attribute 'to_csv'"
     ]
    }
   ],
   "source": [
    "r = reviews_en.reviewDescription.str.split('.').values\n",
    "#r[0:1000]\n",
    "s = [item for sublist in r for item in sublist if len(item)>2]\n",
    "s[0:1000]\n",
    "s.to_csv('phrases.csv')"
   ]
  },
  {
   "cell_type": "code",
   "execution_count": 34,
   "metadata": {
    "collapsed": false
   },
   "outputs": [
    {
     "data": {
      "text/plain": [
       "3543166"
      ]
     },
     "execution_count": 34,
     "metadata": {},
     "output_type": "execute_result"
    }
   ],
   "source": [
    "import csv\n",
    "resultFile = open(\"sentences.csv\",'w', encoding=\"utf-16\"))\n",
    "wr = csv.writer(resultFile, dialect='excel')\n",
    "wr.writerow(r)"
   ]
  },
  {
   "cell_type": "code",
   "execution_count": 33,
   "metadata": {
    "collapsed": false
   },
   "outputs": [
    {
     "ename": "UnicodeEncodeError",
     "evalue": "'latin-1' codec can't encode character '\\u2026' in position 499: ordinal not in range(256)",
     "output_type": "error",
     "traceback": [
      "\u001b[1;31m---------------------------------------------------------------------------\u001b[0m",
      "\u001b[1;31mUnicodeEncodeError\u001b[0m                        Traceback (most recent call last)",
      "\u001b[1;32m<ipython-input-33-136c70f165f6>\u001b[0m in \u001b[0;36m<module>\u001b[1;34m()\u001b[0m\n\u001b[1;32m----> 1\u001b[1;33m \u001b[0mnp\u001b[0m\u001b[1;33m.\u001b[0m\u001b[0msavetxt\u001b[0m\u001b[1;33m(\u001b[0m\u001b[1;34m\"sentences.csv\"\u001b[0m\u001b[1;33m,\u001b[0m \u001b[0msentences\u001b[0m\u001b[1;33m,\u001b[0m \u001b[0mfmt\u001b[0m\u001b[1;33m=\u001b[0m\u001b[1;34m'%s'\u001b[0m\u001b[1;33m)\u001b[0m\u001b[1;33m\u001b[0m\u001b[0m\n\u001b[0m",
      "\u001b[1;32m/home/ubuntu/anaconda3/lib/python3.5/site-packages/numpy/lib/npyio.py\u001b[0m in \u001b[0;36msavetxt\u001b[1;34m(fname, X, fmt, delimiter, newline, header, footer, comments)\u001b[0m\n\u001b[0;32m   1156\u001b[0m             \u001b[1;32mfor\u001b[0m \u001b[0mrow\u001b[0m \u001b[1;32min\u001b[0m \u001b[0mX\u001b[0m\u001b[1;33m:\u001b[0m\u001b[1;33m\u001b[0m\u001b[0m\n\u001b[0;32m   1157\u001b[0m                 \u001b[1;32mtry\u001b[0m\u001b[1;33m:\u001b[0m\u001b[1;33m\u001b[0m\u001b[0m\n\u001b[1;32m-> 1158\u001b[1;33m                     \u001b[0mfh\u001b[0m\u001b[1;33m.\u001b[0m\u001b[0mwrite\u001b[0m\u001b[1;33m(\u001b[0m\u001b[0masbytes\u001b[0m\u001b[1;33m(\u001b[0m\u001b[0mformat\u001b[0m \u001b[1;33m%\u001b[0m \u001b[0mtuple\u001b[0m\u001b[1;33m(\u001b[0m\u001b[0mrow\u001b[0m\u001b[1;33m)\u001b[0m \u001b[1;33m+\u001b[0m \u001b[0mnewline\u001b[0m\u001b[1;33m)\u001b[0m\u001b[1;33m)\u001b[0m\u001b[1;33m\u001b[0m\u001b[0m\n\u001b[0m\u001b[0;32m   1159\u001b[0m                 \u001b[1;32mexcept\u001b[0m \u001b[0mTypeError\u001b[0m\u001b[1;33m:\u001b[0m\u001b[1;33m\u001b[0m\u001b[0m\n\u001b[0;32m   1160\u001b[0m                     raise TypeError(\"Mismatch between array dtype ('%s') and \"\n",
      "\u001b[1;32m/home/ubuntu/anaconda3/lib/python3.5/site-packages/numpy/compat/py3k.py\u001b[0m in \u001b[0;36masbytes\u001b[1;34m(s)\u001b[0m\n\u001b[0;32m     29\u001b[0m         \u001b[1;32mif\u001b[0m \u001b[0misinstance\u001b[0m\u001b[1;33m(\u001b[0m\u001b[0ms\u001b[0m\u001b[1;33m,\u001b[0m \u001b[0mbytes\u001b[0m\u001b[1;33m)\u001b[0m\u001b[1;33m:\u001b[0m\u001b[1;33m\u001b[0m\u001b[0m\n\u001b[0;32m     30\u001b[0m             \u001b[1;32mreturn\u001b[0m \u001b[0ms\u001b[0m\u001b[1;33m\u001b[0m\u001b[0m\n\u001b[1;32m---> 31\u001b[1;33m         \u001b[1;32mreturn\u001b[0m \u001b[0mstr\u001b[0m\u001b[1;33m(\u001b[0m\u001b[0ms\u001b[0m\u001b[1;33m)\u001b[0m\u001b[1;33m.\u001b[0m\u001b[0mencode\u001b[0m\u001b[1;33m(\u001b[0m\u001b[1;34m'latin1'\u001b[0m\u001b[1;33m)\u001b[0m\u001b[1;33m\u001b[0m\u001b[0m\n\u001b[0m\u001b[0;32m     32\u001b[0m \u001b[1;33m\u001b[0m\u001b[0m\n\u001b[0;32m     33\u001b[0m     \u001b[1;32mdef\u001b[0m \u001b[0masstr\u001b[0m\u001b[1;33m(\u001b[0m\u001b[0ms\u001b[0m\u001b[1;33m)\u001b[0m\u001b[1;33m:\u001b[0m\u001b[1;33m\u001b[0m\u001b[0m\n",
      "\u001b[1;31mUnicodeEncodeError\u001b[0m: 'latin-1' codec can't encode character '\\u2026' in position 499: ordinal not in range(256)"
     ]
    }
   ],
   "source": [
    "np.savetxt(\"sentences.csv\", sentences, fmt='%s')"
   ]
  },
  {
   "cell_type": "code",
   "execution_count": null,
   "metadata": {
    "collapsed": true
   },
   "outputs": [],
   "source": []
  }
 ],
 "metadata": {
  "anaconda-cloud": {},
  "kernelspec": {
   "display_name": "Python [Root]",
   "language": "python",
   "name": "Python [Root]"
  },
  "language_info": {
   "codemirror_mode": {
    "name": "ipython",
    "version": 3
   },
   "file_extension": ".py",
   "mimetype": "text/x-python",
   "name": "python",
   "nbconvert_exporter": "python",
   "pygments_lexer": "ipython3",
   "version": "3.5.2"
  }
 },
 "nbformat": 4,
 "nbformat_minor": 0
}
