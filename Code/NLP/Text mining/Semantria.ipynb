{
 "cells": [
  {
   "cell_type": "code",
   "execution_count": 12,
   "metadata": {
    "collapsed": false,
    "scrolled": true
   },
   "outputs": [
    {
     "ename": "SyntaxError",
     "evalue": "(unicode error) 'unicodeescape' codec can't decode bytes in position 2-3: truncated \\UXXXXXXXX escape (<ipython-input-12-909faf07d519>, line 35)",
     "output_type": "error",
     "traceback": [
      "\u001b[1;36m  File \u001b[1;32m\"<ipython-input-12-909faf07d519>\"\u001b[1;36m, line \u001b[1;32m35\u001b[0m\n\u001b[1;33m    reviews_en[\"reviewDescription\"].to_csv('C:\\Users\\merli\\Dropbox\\Perso\\DataScience\\Projet\\Verbatim Glassdoor\\Text mining\\source.txt', header=None, index=None, sep='. ', mode='a')\u001b[0m\n\u001b[1;31mSyntaxError\u001b[0m\u001b[1;31m:\u001b[0m (unicode error) 'unicodeescape' codec can't decode bytes in position 2-3: truncated \\UXXXXXXXX escape\n"
     ]
    }
   ],
   "source": [
    "# -*- coding: utf-8 -*-\n",
    "from __future__ import print_function, unicode_literals\n",
    "\n",
    "import sys\n",
    "import semantria\n",
    "import uuid\n",
    "import time\n",
    "import pandas as pd\n",
    "\n",
    "print(\"Semantria Detailed mode demo ...\")\n",
    "print(\"\")\n",
    "\n",
    "# the consumer key and secret\n",
    "key = \"2b37e65e-33eb-4808-804f-f6fdf46a8d8f\"\n",
    "secret = \"7d3a6997-d9db-489a-bd89-3cc994929c24\"\n",
    "\n",
    "\n",
    "# Creates JSON serializer instance\n",
    "serializer = semantria.JsonSerializer()\n",
    "# Initializes new session with the serializer object and the keys.\n",
    "\n",
    "\n",
    "#print(\"Reading collection from file...\")\n",
    "#with open('source.txt') as f:\n",
    "#\tfor line in f:\n",
    "#\t\tinitialTexts.append(line)\n",
    "        \n",
    "reviews=pd.read_csv('reviews.csv', encoding = 'utf-8')\n",
    "reviews_en = reviews[reviews['language'] == 'en']\n",
    "input_en = reviews_en.reviewDescription.str.cat(sep='. ')\n",
    "reviews_fr = reviews[reviews['language'] == 'fr']\n",
    "input_fr = reviews_fr.reviewDescription.str.cat(sep='. ')\n",
    "#reviews_en[\"reviewDescription\"].tolist()\n"
   ]
  },
  {
   "cell_type": "code",
   "execution_count": null,
   "metadata": {
    "collapsed": false
   },
   "outputs": [],
   "source": []
  },
  {
   "cell_type": "code",
   "execution_count": 5,
   "metadata": {
    "collapsed": false
   },
   "outputs": [
    {
     "name": "stdout",
     "output_type": "stream",
     "text": [
      "0 3\n",
      "0 3\n",
      "0 3\n",
      "0 3\n",
      "0 3\n",
      "0 3\n",
      "0 3\n",
      "0 3\n",
      "0 3\n",
      "0 3\n",
      "0 3\n",
      "0 3\n",
      "0 3\n",
      "0 3\n",
      "0 3\n",
      "0 3\n",
      "0 3\n",
      "0 3\n"
     ]
    },
    {
     "ename": "KeyboardInterrupt",
     "evalue": "",
     "output_type": "error",
     "traceback": [
      "\u001b[1;31m---------------------------------------------------------------------------\u001b[0m",
      "\u001b[1;31mKeyboardInterrupt\u001b[0m                         Traceback (most recent call last)",
      "\u001b[1;32m<ipython-input-5-80dfe6f4947a>\u001b[0m in \u001b[0;36m<module>\u001b[1;34m()\u001b[0m\n\u001b[0;32m     17\u001b[0m \u001b[1;31m#keep polling for results until we got everything back\u001b[0m\u001b[1;33m\u001b[0m\u001b[1;33m\u001b[0m\u001b[0m\n\u001b[0;32m     18\u001b[0m \u001b[1;32mwhile\u001b[0m \u001b[0mlen\u001b[0m\u001b[1;33m(\u001b[0m\u001b[0mresults\u001b[0m\u001b[1;33m)\u001b[0m \u001b[1;33m<\u001b[0m \u001b[0mnumber_of_docs\u001b[0m\u001b[1;33m:\u001b[0m\u001b[1;33m\u001b[0m\u001b[0m\n\u001b[1;32m---> 19\u001b[1;33m     \u001b[0mtime\u001b[0m\u001b[1;33m.\u001b[0m\u001b[0msleep\u001b[0m\u001b[1;33m(\u001b[0m\u001b[1;36m1\u001b[0m\u001b[1;33m)\u001b[0m\u001b[1;33m\u001b[0m\u001b[0m\n\u001b[0m\u001b[0;32m     20\u001b[0m     \u001b[1;32mprint\u001b[0m\u001b[1;33m(\u001b[0m\u001b[0mlen\u001b[0m\u001b[1;33m(\u001b[0m\u001b[0mresults\u001b[0m\u001b[1;33m)\u001b[0m\u001b[1;33m,\u001b[0m \u001b[0mnumber_of_docs\u001b[0m\u001b[1;33m)\u001b[0m\u001b[1;33m\u001b[0m\u001b[0m\n\u001b[0;32m     21\u001b[0m     \u001b[0mstatus\u001b[0m \u001b[1;33m=\u001b[0m \u001b[0msession\u001b[0m\u001b[1;33m.\u001b[0m\u001b[0mgetProcessedDocuments\u001b[0m\u001b[1;33m(\u001b[0m\u001b[1;33m)\u001b[0m\u001b[1;33m\u001b[0m\u001b[0m\n",
      "\u001b[1;31mKeyboardInterrupt\u001b[0m: "
     ]
    }
   ],
   "source": [
    "\n",
    "#some sample text\n",
    "initialTexts = [\n",
    "    \"Lisa - there's 2 Skinny cow coupons available $5 skinny cow ice cream coupons on special k boxes and Printable FPC from facebook - a teeny tiny cup of ice cream. I printed off 2 (1 from my account and 1 from dh's). I couldn't find them instore and i'm not going to walmart before the 19th. Oh well sounds like i'm not missing much ...lol\",\n",
    "    \"In Lake Louise - a guided walk for the family with Great Divide Nature Tours  rent a canoe on Lake Louise or Moraine Lake  go for a hike to the Lake Agnes Tea House. In between Lake Louise and Banff - visit Marble Canyon or Johnson Canyon or both for family friendly short walks. In Banff  a picnic at Johnson Lake  rent a boat at Lake Minnewanka  hike up Tunnel Mountain  walk to the Bow Falls and the Fairmont Banff Springs Hotel  visit the Banff Park Museum. The \\\"must-do\\\" in Banff is a visit to the Banff Gondola and some time spent on Banff Avenue - think candy shops and ice cream. Have a Fanta while you're there.\",\n",
    "    \"On this day in 1786 - In New York City  commercial ice cream was manufactured for the first time.\"\n",
    "]\n",
    "for text in initialTexts:\n",
    "   doc = {\"id\": str(uuid.uuid4()).replace(\"-\", \"\"), \"text\": text}\n",
    "\n",
    "session = semantria.Session(key, secret)\n",
    "#queue a batch of documents\n",
    "session.queueBatch(initialTexts)\n",
    "#keep track of how many we sent\n",
    "number_of_docs = len(initialTexts)\n",
    "results = []\n",
    "#keep polling for results until we got everything back\n",
    "while len(results) < number_of_docs:\n",
    "    time.sleep(1)\n",
    "    print(len(results), number_of_docs)\n",
    "    status = session.getProcessedDocuments()\n",
    "    if isinstance(status, list):\n",
    "        for object_ in status:\n",
    "            results.append(object_)\n",
    "          "
   ]
  },
  {
   "cell_type": "code",
   "execution_count": 56,
   "metadata": {
    "collapsed": false
   },
   "outputs": [
    {
     "name": "stdout",
     "output_type": "stream",
     "text": [
      "Semantria Detailed mode demo ...\n",
      "\n",
      "3 documents queued successfully.\n",
      "\n",
      "\n",
      "Done!\n"
     ]
    }
   ],
   "source": [
    "# -*- coding: utf-8 -*-\n",
    "from __future__ import print_function, unicode_literals\n",
    "\n",
    "import sys\n",
    "import semantria\n",
    "import uuid\n",
    "import time\n",
    "\n",
    "print(\"Semantria Detailed mode demo ...\")\n",
    "print(\"\")\n",
    "\n",
    "# the consumer key and secret\n",
    "consumerKey = \"2b37e65e-33eb-4808-804f-f6fdf46a8d8f\"\n",
    "consumerSecret = \"7d3a6997-d9db-489a-bd89-3cc994929c24\"\n",
    "\n",
    "# Task statuses\n",
    "TASK_STATUS_UNDEFINED = 'UNDEFINED'\n",
    "TASK_STATUS_FAILED = 'FAILED'\n",
    "TASK_STATUS_QUEUED = 'QUEUED'\n",
    "TASK_STATUS_PROCESSED = 'PROCESSED'\n",
    "\n",
    "\n",
    "def onRequest(sender, result):\n",
    "    print(\"\\n\", \"REQUEST: \", result)\n",
    "\n",
    "\n",
    "def onResponse(sender, result):\n",
    "    print(\"\\n\", \"RESPONSE: \", result)\n",
    "\n",
    "\n",
    "def onError(sender, result):\n",
    "    print(\"\\n\", \"ERROR: \", result)\n",
    "\n",
    "\n",
    "def onDocsAutoResponse(sender, result):\n",
    "    print(\"\\n\", \"AUTORESPONSE: \", len(result), result)\n",
    "\n",
    "\n",
    "def onCollsAutoResponse(sender, result):\n",
    "    print(\"\\n\", \"AUTORESPONSE: \", len(result), result)\n",
    "\n",
    "# Creates JSON serializer instance\n",
    "serializer = semantria.JsonSerializer()\n",
    "# Initializes new session with the serializer object and the keys.\n",
    "session = semantria.Session(consumerKey, consumerSecret, serializer, use_compression=True)\n",
    "\n",
    "# Initialize session callback handlers\n",
    "# session.Request += onRequest\n",
    "# session.Response += onResponse\n",
    "session.Error += onError\n",
    "# session.DocsAutoResponse += onDocsAutoResponse\n",
    "# session.CollsAutoResponse += onCollsAutoResponse\n",
    "\n",
    "subscription = session.getSubscription()\n",
    "\n",
    "initialTexts = []\n",
    "results = []\n",
    "tracker = {}\n",
    "documents = []\n",
    "\n",
    "initialTexts = [\n",
    "    \"Lisa - there's 2 Skinny cow coupons available $5 skinny cow ice cream coupons on special k boxes and Printable FPC from facebook - a teeny tiny cup of ice cream. I printed off 2 (1 from my account and 1 from dh's). I couldn't find them instore and i'm not going to walmart before the 19th. Oh well sounds like i'm not missing much ...lol\",\n",
    "    \"In Lake Louise - a guided walk for the family with Great Divide Nature Tours  rent a canoe on Lake Louise or Moraine Lake  go for a hike to the Lake Agnes Tea House. In between Lake Louise and Banff - visit Marble Canyon or Johnson Canyon or both for family friendly short walks. In Banff  a picnic at Johnson Lake  rent a boat at Lake Minnewanka  hike up Tunnel Mountain  walk to the Bow Falls and the Fairmont Banff Springs Hotel  visit the Banff Park Museum. The \\\"must-do\\\" in Banff is a visit to the Banff Gondola and some time spent on Banff Avenue - think candy shops and ice cream. Have a Fanta while you're there.\",\n",
    "    \"On this day in 1786 - In New York City  commercial ice cream was manufactured for the first time.\"\n",
    "]\n",
    "\n",
    "for text in initialTexts:\n",
    "    doc_id = str(uuid.uuid4())\n",
    "    documents.append({'id': doc_id, 'text': text})\n",
    "    \n",
    "    if len(documents) == subscription['basic_settings']['incoming_batch_limit']:\n",
    "        res = session.queueBatch(documents)\n",
    "        if res in [200, 202]:\n",
    "            print(\"{0} documents queued successfully.\".format(len(documents)))\n",
    "            documents = []\n",
    "\n",
    "if len(documents):\n",
    "    res = session.queueBatch(documents)\n",
    "    if res not in [200, 202]:\n",
    "        print(\"Unexpected error!\")\n",
    "        sys.exit(1)\n",
    "    print(\"{0} documents queued successfully.\".format(len(documents)))\n",
    "\n",
    "print(\"\")\n",
    "\n",
    "while len(list(filter(lambda x: x == TASK_STATUS_QUEUED, tracker.values()))):\n",
    "    time.sleep(0.5)\n",
    "    print(\"Retrieving your processed results...\")\n",
    "\n",
    "    response = session.getProcessedDocuments()\n",
    "    for item in response:\n",
    "        if item['id'] in tracker:\n",
    "            tracker[item['id']] = item['status']\n",
    "            results.append(item)\n",
    "\n",
    "print(\"\")\n",
    "\n",
    "for data in results:\n",
    "    # Printing of document sentiment score\n",
    "    print(\"Document {0} / Sentiment score: {1}\".format(data['id'], data['sentiment_score']))\n",
    "\n",
    "    # Printing of document themes\n",
    "    if \"themes\" in data:\n",
    "        print(\"Document themes:\")\n",
    "        for theme in data[\"themes\"]:\n",
    "            print(\"\\t {0} (sentiment: {1})\".format(theme['title'], theme['sentiment_score']))\n",
    "\n",
    "    # Printing of document entities\n",
    "    if \"entities\" in data:\n",
    "        print(\"Entities:\")\n",
    "        for entity in data[\"entities\"]:\n",
    "            print(\"\\t {0}: {1} (sentiment: {2})\".format(\n",
    "                entity['title'], entity['entity_type'], entity['sentiment_score']\n",
    "            ))\n",
    "\n",
    "    print(\"\")\n",
    "\n",
    "print(\"Done!\")"
   ]
  },
  {
   "cell_type": "code",
   "execution_count": 58,
   "metadata": {
    "collapsed": false
   },
   "outputs": [],
   "source": [
    "res = session.queueBatch(documents)\n",
    "response = session.getProcessedDocuments()"
   ]
  },
  {
   "cell_type": "code",
   "execution_count": 59,
   "metadata": {
    "collapsed": false
   },
   "outputs": [
    {
     "data": {
      "text/plain": [
       "[]"
      ]
     },
     "execution_count": 59,
     "metadata": {},
     "output_type": "execute_result"
    }
   ],
   "source": [
    "results"
   ]
  },
  {
   "cell_type": "code",
   "execution_count": null,
   "metadata": {
    "collapsed": true
   },
   "outputs": [],
   "source": []
  }
 ],
 "metadata": {
  "kernelspec": {
   "display_name": "Python 2",
   "language": "python",
   "name": "python2"
  },
  "language_info": {
   "codemirror_mode": {
    "name": "ipython",
    "version": 2
   },
   "file_extension": ".py",
   "mimetype": "text/x-python",
   "name": "python",
   "nbconvert_exporter": "python",
   "pygments_lexer": "ipython2",
   "version": "2.7.12"
  }
 },
 "nbformat": 4,
 "nbformat_minor": 0
}
