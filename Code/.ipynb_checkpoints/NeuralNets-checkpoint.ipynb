{
 "cells": [
  {
   "cell_type": "code",
   "execution_count": 22,
   "metadata": {
    "collapsed": false
   },
   "outputs": [],
   "source": [
    "class Unit: #each unit is an axone\n",
    "    def __init__(self, value, grad):\n",
    "        self.value = value # the value passed to the next synapse\n",
    "        self.grad = grad\n",
    "        \n",
    "    def info(self):\n",
    "        print(self.value, self.grad)\n",
    "    \n",
    "class multiplyGate: # a multiplicative synapse\n",
    "    \n",
    "    def forward(self, u0, u1):\n",
    "        self.u0 = u0\n",
    "        self.u1 = u1\n",
    "        self.utop = Unit(u0.value * u1.value, 0.0)\n",
    "        \n",
    "    def backward(self):\n",
    "        self.u0.grad += self.u1.value * self.utop.grad\n",
    "        self.u1.grad += self.u0.value * self.utop.grad\n",
    "        "
   ]
  },
  {
   "cell_type": "code",
   "execution_count": 28,
   "metadata": {
    "collapsed": false,
    "scrolled": true
   },
   "outputs": [
    {
     "name": "stdout",
     "output_type": "stream",
     "text": [
      "(2, 0.0)\n",
      "None\n"
     ]
    }
   ],
   "source": [
    "gate = multiplyGate()\n",
    "u0 = Unit(1,0)\n",
    "u1 = Unit(2,0)\n",
    "\n",
    "gate.forward(u0,u1)\n",
    "print gate.utop.info()\n",
    "gate.backward()\n",
    "#print gate.u0.info()"
   ]
  },
  {
   "cell_type": "code",
   "execution_count": null,
   "metadata": {
    "collapsed": true
   },
   "outputs": [],
   "source": []
  }
 ],
 "metadata": {
  "kernelspec": {
   "display_name": "Python 2",
   "language": "python",
   "name": "python2"
  },
  "language_info": {
   "codemirror_mode": {
    "name": "ipython",
    "version": 2
   },
   "file_extension": ".py",
   "mimetype": "text/x-python",
   "name": "python",
   "nbconvert_exporter": "python",
   "pygments_lexer": "ipython2",
   "version": "2.7.11"
  }
 },
 "nbformat": 4,
 "nbformat_minor": 1
}
