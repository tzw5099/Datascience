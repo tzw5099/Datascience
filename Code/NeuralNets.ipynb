{
 "cells": [
  {
   "cell_type": "code",
   "execution_count": 1,
   "metadata": {
    "collapsed": false
   },
   "outputs": [],
   "source": [
    "import numpy as np"
   ]
  },
  {
   "cell_type": "code",
   "execution_count": 11,
   "metadata": {
    "collapsed": false
   },
   "outputs": [],
   "source": [
    "class Unit: #each unit is an axone\n",
    "    def __init__(self, value, grad):\n",
    "        self.value = value # the value passed to the next synapse\n",
    "        self.grad = grad\n",
    "        \n",
    "    def info(self):\n",
    "        print(self.value, self.grad)\n",
    "    \n",
    "class multiplyGate: # a multiplicative synapse\n",
    "    \n",
    "    def forward(self, u0, u1):\n",
    "        self.u0 = u0\n",
    "        self.u1 = u1\n",
    "        self.utop = Unit(u0.value * u1.value, 0.0)\n",
    "        return self.utop\n",
    "        \n",
    "    def backward(self):\n",
    "        self.u0.grad += self.u1.value * self.utop.grad\n",
    "        self.u1.grad += self.u0.value * self.utop.grad\n",
    "\n",
    "class sigmoidGate: #a sigmoid activation gate\n",
    "    \n",
    "    def sig(self, x):\n",
    "        return 1/(1.0+np.exp(-x))\n",
    "    \n",
    "    def forward(self, u0):\n",
    "        self.u0 = u0\n",
    "        self.utop = Unit(self.sig(self.u0.value), 0.0)\n",
    "        return self.utop\n",
    "    \n",
    "    def backward(self):\n",
    "        s = self.sig(self.u0.value)\n",
    "        self.u0.grad += (s * (1.0-s)) * self.utop.grad\n",
    "    \n",
    "\n",
    "class addGate: #an additive activation gate\n",
    "    \n",
    "    def forward(self, u0, u1):\n",
    "        self.u0 = u0\n",
    "        self.u1 = u1\n",
    "        self.utop = Unit(self.u0.value+self.u1.value, 0.0)\n",
    "        return self.utop\n",
    "    \n",
    "\n",
    "    def backward(self):\n",
    "        self.u0.grad += 1.0 * self.utop.grad\n",
    "        self.u1.grad += 1.0 * self.utop.grad\n",
    "        "
   ]
  },
  {
   "cell_type": "code",
   "execution_count": 12,
   "metadata": {
    "collapsed": false
   },
   "outputs": [
    {
     "name": "stdout",
     "output_type": "stream",
     "text": [
      "0.880797077978\n",
      "0.882550181622\n"
     ]
    }
   ],
   "source": [
    "# The axones\n",
    "\n",
    "a = Unit(1, 0)\n",
    "b = Unit(2, 0)\n",
    "c = Unit(-3, 0)\n",
    "x = Unit(-1, 0)\n",
    "y = Unit(3, 0)\n",
    "\n",
    "# The Gates\n",
    "\n",
    "mul0 = multiplyGate()\n",
    "mul1 = multiplyGate()\n",
    "add0 = addGate()\n",
    "add1 = addGate()\n",
    "sg0 = sigmoidGate()\n",
    "\n",
    "# Forward Pass\n",
    "\n",
    "def forwardNeuron():\n",
    "    \n",
    "    add1.forward(add0.forward(mul0.forward(a, x), mul1.forward(b, y)), c)    \n",
    "    return sg0.forward(add1.utop)\n",
    "    \n",
    "    #s= sg0.forward(add1.forward(c, add0.forward( mul0.forward(a, x).value, mul1.forward(b, y).value).value).value)\n",
    "\n",
    "s = forwardNeuron()\n",
    "\n",
    "def backwardNeuron():\n",
    "    \n",
    "    s.grad = 1.0\n",
    "    sg0.backward()\n",
    "    add1.backward()\n",
    "    add0.backward()\n",
    "    mul1.backward()\n",
    "    mul0.backward()\n",
    "\n",
    "    \n",
    "backwardNeuron()\n",
    "\n",
    "print(s.value)\n",
    "\n",
    "def evolve():\n",
    "    var = 0.01\n",
    "    a.value += a.grad * var\n",
    "    b.value += b.grad * var\n",
    "    c.value += c.grad * var\n",
    "    x.value += x.grad * var\n",
    "    y.value += y.grad * var\n",
    "    \n",
    "evolve()\n",
    "\n",
    "s = forwardNeuron()\n",
    "backwardNeuron()\n",
    "print(s.value)"
   ]
  },
  {
   "cell_type": "markdown",
   "metadata": {
    "collapsed": false,
    "scrolled": true
   },
   "source": [
    "# SVM"
   ]
  },
  {
   "cell_type": "code",
   "execution_count": null,
   "metadata": {
    "collapsed": false
   },
   "outputs": [],
   "source": [
    "class Circuit:\n",
    "    \n",
    "    def __init__(self):\n",
    "        self.mulg0 = multiplyGate()\n",
    "        self.mulg1 = multiplyGate()\n",
    "        self.add0 = addGate()\n",
    "        self.add1 = addGate()\n",
    "    \n",
    "    def forward(self, x, y, a, b, c):\n",
    "        self.ax = self.mulg0.forward(a, x)\n",
    "        self.by = self.mulg1.forward(b ,y)\n",
    "        self.axpby = self.add0.forward(self.ax, self.by)\n",
    "        self.axpbypc = self.add1.forward(self.axpby, c)\n",
    "        return self.axpbypc\n",
    "    \n",
    "    def backward(self, gradient_top):\n",
    "        self.axpbypc.grad = gradient_top\n",
    "        self.add1.backward()\n",
    "        self.add0.backward()\n",
    "        self.mulg1.backward()\n",
    "        self.mulg0.backward()\n",
    "    \n",
    "    def evolve(self, var):\n",
    "        self.mulg0.u0.value += self.mulg0.u0.grad * var\n",
    "        self.mulg1.u0.value += self.mulg1.u0.grad * var\n",
    "        self.add1.u1.value += self.add1.u1.grad * var\n",
    "        \n",
    "    \n",
    "    \n",
    "    \n",
    "class SVM:\n",
    "    \n",
    "    def _init_(self):\n",
    "        self.a = Unit(1, 0)\n",
    "        self.b = Unit(-2, 0)\n",
    "        self.c = Unit(-1, 0)\n",
    "        self.circuit = Circuit()\n",
    "        \n",
    "    def forward(self, x, y):\n",
    "        self.unit_out = self.circuit.forward(x, y, self.a, self.b, self.c)\n",
    "        return self.unit_out\n",
    "    \n",
    "    def backward(self, label):\n",
    "        self.a.grad = 0\n",
    "        self.b.grad = 0\n",
    "        self.c.grad = 0\n",
    "        \n",
    "        pull = 0\n",
    "        \n",
    "        if (label == 1 & self.unit_out.value < 1): \n",
    "            pull = 1\n",
    "            \n",
    "        if (label == -1 & self.unit_out.value > -1): \n",
    "            pull = -1\n",
    "        \n",
    "        self.circuit.backward(pull)\n",
    "            \n",
    "        self.a.grad += -self.a.value\n",
    "        self.b.grad += -self.a.value\n",
    "        \n",
    "    def learnFrom(self, x, y, label):\n",
    "        self.forward(x, y)\n",
    "        self.backward(label)\n",
    "        self.parameterUpdate()\n",
    "        \n",
    "    def parameterUpdate(self):\n",
    "        step_size = 0.01\n",
    "        self.a.value += step_size * self.a.grad\n",
    "        self.b.value += step_size * self.b.grad\n",
    "        self.c.value += step_size * self.c.grad\n",
    "        \n",
    "\n",
    "print('OK')"
   ]
  },
  {
   "cell_type": "code",
   "execution_count": null,
   "metadata": {
    "collapsed": false
   },
   "outputs": [],
   "source": [
    "sv = SVM()\n",
    "SVM().a"
   ]
  },
  {
   "cell_type": "code",
   "execution_count": null,
   "metadata": {
    "collapsed": false
   },
   "outputs": [],
   "source": [
    "data = []\n",
    "labels = []\n",
    "\n",
    "data.append([1.2, 0.7])\n",
    "labels.append(1)\n",
    "\n",
    "data.append([-0.3, -0.5])\n",
    "labels.append(-1)\n",
    "\n",
    "data.append([3.0, 0.1])\n",
    "labels.append(1)\n",
    "\n",
    "data.append([-0.1, -1.0])\n",
    "labels.append(-1)\n",
    "\n",
    "data.append([2.1, -3])\n",
    "labels.append(1)\n",
    "\n",
    "svm = SVM()\n",
    "\n",
    "def evalTrainingAccuracy():\n",
    "    num_correct = 0\n",
    "    for i in range(0, data.lenght):\n",
    "        x = Unit(data[i][0], 0.0)\n",
    "        y = Unit(data[i][1], 0.0)\n",
    "        true_label = labels[i]\n",
    "        \n",
    "        if svm.forward(x, y) > 0:\n",
    "            predicted_label = 1\n",
    "        else:\n",
    "            predicted_label = -1\n",
    "            \n",
    "        if (predicted_label == true_label):\n",
    "            num_correct+=1\n",
    "    \n",
    "    return num_correct / len(data)\n",
    "\n",
    "\n",
    "for iter in range(0,400):\n",
    "    i = np.int(np.random.rand() * len(data))\n",
    "    x = Unit(data[i][0], 0.0)\n",
    "    y = Unit(data[i][1], 0.0)\n",
    "    true_label = labels[i]\n",
    "    svm.learnFrom(x, y, true_label)\n",
    "\n",
    "    if iter % 20 == 0:\n",
    "        print(iter, evalTrainingAccuracy())\n",
    "\n",
    "\n"
   ]
  },
  {
   "cell_type": "code",
   "execution_count": null,
   "metadata": {
    "collapsed": false
   },
   "outputs": [],
   "source": [
    "np.int(1.0)"
   ]
  },
  {
   "cell_type": "code",
   "execution_count": null,
   "metadata": {
    "collapsed": true
   },
   "outputs": [],
   "source": []
  }
 ],
 "metadata": {
  "kernelspec": {
   "display_name": "Python 3",
   "language": "python",
   "name": "python3"
  },
  "language_info": {
   "codemirror_mode": {
    "name": "ipython",
    "version": 3
   },
   "file_extension": ".py",
   "mimetype": "text/x-python",
   "name": "python",
   "nbconvert_exporter": "python",
   "pygments_lexer": "ipython3",
   "version": "3.5.2"
  }
 },
 "nbformat": 4,
 "nbformat_minor": 1
}
